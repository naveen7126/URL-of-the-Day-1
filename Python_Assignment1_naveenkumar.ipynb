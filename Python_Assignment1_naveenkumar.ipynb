{
  "nbformat": 4,
  "nbformat_minor": 0,
  "metadata": {
    "colab": {
      "name": "Python_Assignment1_naveenkumar.ipynb",
      "provenance": [],
      "include_colab_link": true
    },
    "kernelspec": {
      "name": "python3",
      "display_name": "Python 3"
    }
  },
  "cells": [
    {
      "cell_type": "markdown",
      "metadata": {
        "id": "view-in-github",
        "colab_type": "text"
      },
      "source": [
        "<a href=\"https://colab.research.google.com/github/naveen7126/URL-of-the-Day-1/blob/main/Python_Assignment1_naveenkumar.ipynb\" target=\"_parent\"><img src=\"https://colab.research.google.com/assets/colab-badge.svg\" alt=\"Open In Colab\"/></a>"
      ]
    },
    {
      "cell_type": "code",
      "metadata": {
        "id": "D9WBix_vacCb"
      },
      "source": [
        "lower = int(input(\"Enter lower range: \"))  \r\n",
        "upper = int(input(\"Enter upper range: \"))  \r\n",
        "  \r\n",
        "for num in range(lower,upper + 1):  \r\n",
        "   if num > 1:  \r\n",
        "       for i in range(2,num):  \r\n",
        "           if (num % i) == 0:  \r\n",
        "               break  \r\n",
        "       else:  \r\n",
        "           print(num)"
      ],
      "execution_count": null,
      "outputs": []
    },
    {
      "cell_type": "code",
      "metadata": {
        "id": "GQxbwJXtavp0"
      },
      "source": [
        "num = int(input(\"Enter a number: \"))  \r\n",
        "factorial = 1  \r\n",
        "if num < 0:  \r\n",
        "   print(\"Sorry, factorial does not exist for negative numbers\")  \r\n",
        "elif num == 0:  \r\n",
        "   print(\"The factorial of 0 is 1\")  \r\n",
        "else:  \r\n",
        "   for i in range(1,num + 1):  \r\n",
        "       factorial = factorial*i  \r\n",
        "   print(\"The factorial of\",num,\"is\",factorial)"
      ],
      "execution_count": null,
      "outputs": []
    },
    {
      "cell_type": "code",
      "metadata": {
        "id": "DWmNYPk3a12D"
      },
      "source": [
        "num = int(input(\"Enter the maximum number: \"))\r\n",
        "if num < 0:\r\n",
        "   print(\"Enter a positive number\")\r\n",
        "else:\r\n",
        "   sum = 0\r\n",
        "   # use while loop to iterate until zero\r\n",
        "   while(num > 0):\r\n",
        "       sum += num\r\n",
        "       num -= 1\r\n",
        "   print(\"The sum is\", sum)"
      ],
      "execution_count": null,
      "outputs": []
    }
  ]
}